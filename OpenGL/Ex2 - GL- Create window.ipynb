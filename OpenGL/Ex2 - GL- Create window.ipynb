{
 "cells": [
  {
   "cell_type": "markdown",
   "metadata": {},
   "source": [
    "# Ex1: OpenGL - Create Window"
   ]
  },
  {
   "attachments": {},
   "cell_type": "markdown",
   "metadata": {},
   "source": [
    "<hr>\n",
    "<style>\n",
    "    .title{font-weight: bold; font-size:13pt; text-indent: 20px; display: block; color:rgb(200,110,50)}\n",
    "    .desc{font-size:13pt; margin-left: 60px; display: block; color:rgb(70,150,90)}\n",
    "</style>\n",
    "<span class=\"title\">Needed Libraries:</span>\n",
    "<span class=\"desc\">- pip install PyOpenGL.</span>\n",
    "<span class=\"desc\">- pip install PyOpenGL-Accelerate.</span>\n",
    "<span class=\"desc\">- pip install glfw.</span>\n",
    "<span class=\"desc\">- FreeGLUT.</span>"
   ]
  },
  {
   "attachments": {},
   "cell_type": "markdown",
   "metadata": {},
   "source": [
    "<hr>\n",
    "The first thing we need to do to use OpenGL in our code is to import it. You can use the following command:\n",
    "    import OpenGL\n",
    "ver\n",
    "There are a few other libraries that you need to import whenever you intend to use this library in your program. \n",
    "\n",
    "Below is the code for those imports, and then create a window in which our graphics will be shown. The code for that is given below:\n",
    "<hr>"
   ]
  },
  {
   "cell_type": "code",
   "execution_count": null,
   "metadata": {},
   "outputs": [
    {
     "ename": "",
     "evalue": "",
     "output_type": "error",
     "traceback": [
      "\u001b[1;31mThe Kernel crashed while executing code in the current cell or a previous cell. \n",
      "\u001b[1;31mPlease review the code in the cell(s) to identify a possible cause of the failure. \n",
      "\u001b[1;31mClick <a href='https://aka.ms/vscodeJupyterKernelCrash'>here</a> for more info. \n",
      "\u001b[1;31mView Jupyter <a href='command:jupyter.viewOutput'>log</a> for further details."
     ]
    }
   ],
   "source": [
    "# Import the necessary OpenGL modules\n",
    "from OpenGL.GL import *          # Core OpenGL functions\n",
    "from OpenGL.GLUT import *        # GLUT for windowing and input handling\n",
    "import sys                       # For accessing command-line arguments\n",
    "\n",
    "# Display function: This is where rendering happens\n",
    "def display():\n",
    "    # Clear the screen and depth buffer\n",
    "    glClear(GL_COLOR_BUFFER_BIT | GL_DEPTH_BUFFER_BIT)\n",
    "    # Reset the modelview matrix\n",
    "    glLoadIdentity()\n",
    "\n",
    "    # No shapes drawn yet\n",
    "\n",
    "    # Swap buffers for double buffering\n",
    "    glutSwapBuffers()\n",
    "\n",
    "# Main function to initialize and run the OpenGL program\n",
    "def main():\n",
    "    # Initialize GLUT and process command-line arguments\n",
    "    glutInit(sys.argv)\n",
    "    # Set display mode: double buffering, RGB color, depth buffer\n",
    "    glutInitDisplayMode(GLUT_DOUBLE | GLUT_RGB | GLUT_DEPTH)\n",
    "    # Set the window size (width x height)\n",
    "    glutInitWindowSize(640, 480)\n",
    "    # Set the initial window position on the screen\n",
    "    glutInitWindowPosition(100, 100)\n",
    "    # Create the window with a title\n",
    "    glutCreateWindow(b\"Simple OpenGL Window\")\n",
    "\n",
    "    # Set the background (clear) color to black\n",
    "    glClearColor(0.0, 0.0, 0.0, 1.0)\n",
    "\n",
    "    glutDisplayFunc(display)       # Set the display callback function\n",
    "    glutMainLoop()                 # Start the GLUT event processing loop\n",
    "\n",
    "# Call the main function to start the program\n",
    "main()\n"
   ]
  },
  {
   "cell_type": "code",
   "execution_count": null,
   "metadata": {},
   "outputs": [],
   "source": [
    "\n",
    "from OpenGL.GL import *\n",
    "from OpenGL.GLUT import *\n",
    "import sys\n",
    "\n",
    "def display():\n",
    "    glClear(GL_COLOR_BUFFER_BIT | GL_DEPTH_BUFFER_BIT)\n",
    "    glLoadIdentity()\n",
    "    # لا يوجد رسم هنا\n",
    "    glutSwapBuffers()\n",
    "\n",
    "def main():\n",
    "    glutInit(sys.argv)\n",
    "    glutInitDisplayMode(GLUT_DOUBLE | GLUT_RGB | GLUT_DEPTH)\n",
    "    glutInitWindowSize(640, 480)\n",
    "    glutInitWindowPosition(100, 100)\n",
    "    glutCreateWindow(b\"نافذة OpenGL بسيطة\")\n",
    "    glClearColor(0.0, 0.0, 0.0, 1.0)  # لون الخلفية: أسود\n",
    "    glutDisplayFunc(display)\n",
    "    glutMainLoop()\n",
    "\n",
    "main()\n"
   ]
  },
  {
   "cell_type": "code",
   "execution_count": null,
   "metadata": {},
   "outputs": [],
   "source": [
    "from OpenGL.GLUT import *\n",
    "from OpenGL.GLUT import *\n",
    "import sys\n",
    "glutInit(sys.argv)\n",
    "glutInitWindowSize(600, 400)\n",
    "glutCreateWindow(b'window')\n"
   ]
  },
  {
   "cell_type": "code",
   "execution_count": null,
   "metadata": {},
   "outputs": [],
   "source": [
    "from OpenGL.GL import *\n",
    "from OpenGL.GLUT import *\n",
    "import sys\n",
    "\n",
    "def main():\n",
    "    glutInit(sys.argv)\n",
    "    glutInitDisplayMode(GLUT_DOUBLE | GLUT_RGB | GLUT_DEPTH)\n",
    "    glutInitWindowSize(600, 400)\n",
    "    glutInitWindowPosition(100, 100)\n",
    "    glutCreateWindow(b'OpenGL Window with PyOpenGL')\n",
    "    # يمكنك هنا إضافة دالة للرسم مثلاً: glutDisplayFunc(draw)\n",
    "    glutMainLoop()\n",
    "\n",
    "main()"
   ]
  },
  {
   "cell_type": "code",
   "execution_count": 1,
   "metadata": {},
   "outputs": [
    {
     "name": "stdout",
     "output_type": "stream",
     "text": [
      "Imports successful!\n"
     ]
    },
    {
     "ename": "",
     "evalue": "",
     "output_type": "error",
     "traceback": [
      "\u001b[1;31mThe Kernel crashed while executing code in the current cell or a previous cell. \n",
      "\u001b[1;31mPlease review the code in the cell(s) to identify a possible cause of the failure. \n",
      "\u001b[1;31mClick <a href='https://aka.ms/vscodeJupyterKernelCrash'>here</a> for more info. \n",
      "\u001b[1;31mView Jupyter <a href='command:jupyter.viewOutput'>log</a> for further details."
     ]
    }
   ],
   "source": [
    "# import OpenGL.GL\n",
    "from OpenGL.GL import *\n",
    "from OpenGL.GLUT import *\n",
    "from OpenGL.GLU import *\n",
    "import sys\n",
    "print(\"Imports successful!\")\n",
    "#==================\n",
    "def ShowWindow():\n",
    "    glClearColor(0.2, 0.3, 0.9, 1.0)\n",
    "    glClear(GL_COLOR_BUFFER_BIT | GL_DEPTH_BUFFER_BIT) # Remove everything from screen (i.e. displays all white)\n",
    "    glutSwapBuffers()                   #It is important for double buffering\n",
    "    # pass\n",
    "#==================\n",
    "#Initialization\n",
    "glutInit()                          # Initialize a glut instance which will allow us to customize our window (Initialize the GLUT library)\n",
    "# glutInit(sys.argv)\n",
    "# OpenGL.GLUT.glutInit()\n",
    "#-------\n",
    "width, height = 800, 600\n",
    "# glutInitWindowSize(width, height)   #Set the initial window size.\n",
    "# glutInitWindowPosition(100,200)     #Set the initial window position.\n",
    "#-------\n",
    "# glutInitDisplayMode(GLUT_RGBA)                            # Set the display mode to be colored\n",
    "# glutInitDisplayMode(GLUT_DOUBLE | GLUT_RGBA | GLUT_DEPTH)   # Set the display mode to be colored\n",
    "#-------\n",
    "window=glutCreateWindow(bytes(\"MyWindow\",\"ascii\"))  # Give your window a title\n",
    "# window=glutCreateWindow(b'MyWindow')  # Give your window a title\n",
    "#-------\n",
    "glutDisplayFunc(ShowWindow)         # Tell OpenGL to call the ShowWindow method continuously\n",
    "# glutFullScreen()\n",
    "glutShowWindow()                  #show the current window (though it may still not be visible if obscured by other shown windows).\n",
    "glutMainLoop()                      # Keeps the window created above"
   ]
  },
  {
   "cell_type": "code",
   "execution_count": 1,
   "metadata": {},
   "outputs": [
    {
     "name": "stdout",
     "output_type": "stream",
     "text": [
      "Imports successful!\n"
     ]
    },
    {
     "ename": "",
     "evalue": "",
     "output_type": "error",
     "traceback": [
      "\u001b[1;31mThe Kernel crashed while executing code in the current cell or a previous cell. \n",
      "\u001b[1;31mPlease review the code in the cell(s) to identify a possible cause of the failure. \n",
      "\u001b[1;31mClick <a href='https://aka.ms/vscodeJupyterKernelCrash'>here</a> for more info. \n",
      "\u001b[1;31mView Jupyter <a href='command:jupyter.viewOutput'>log</a> for further details."
     ]
    }
   ],
   "source": [
    "# import OpenGL.GL\n",
    "from OpenGL.GL import *\n",
    "from OpenGL.GLUT import *\n",
    "from OpenGL.GLU import *\n",
    "import sys\n",
    "print(\"Imports successful!\")\n",
    "#==================\n",
    "def ShowWindow():\n",
    "    glClearColor(0.2, 0.3, 0.9, 1.0)\n",
    "    glClear(GL_COLOR_BUFFER_BIT | GL_DEPTH_BUFFER_BIT) # Remove everything from screen (i.e. displays all white)\n",
    "    glutSwapBuffers()                   #It is important for double buffering\n",
    "    pass\n",
    "#==================\n",
    "#Initialization\n",
    "# glutInit()                          # Initialize a glut instance which will allow us to customize our window (Initialize the GLUT library)\n",
    "glutInit(sys.argv)\n",
    "# OpenGL.GLUT.glutInit()\n",
    "#-------\n",
    "width, height = 800, 600\n",
    "glutInitWindowSize(width, height)   #Set the initial window size.\n",
    "glutInitWindowPosition(100,200)     #Set the initial window position.\n",
    "#-------\n",
    "glutInitDisplayMode(GLUT_RGBA)                            # Set the display mode to be colored\n",
    "# glutInitDisplayMode(GLUT_DOUBLE | GLUT_RGBA | GLUT_DEPTH)   # Set the display mode to be colored\n",
    "#-------\n",
    "window=glutCreateWindow(bytes(\"MyWindow\",\"ascii\"))  # Give your window a title\n",
    "# window=glutCreateWindow(b'MyWindow')  # Give your window a title\n",
    "#-------\n",
    "glutDisplayFunc(ShowWindow)         # Tell OpenGL to call the ShowWindow method continuously\n",
    "# glutFullScreen()\n",
    "glutShowWindow()                  #show the current window (though it may still not be visible if obscured by other shown windows).\n",
    "glutMainLoop()                      # Keeps the window created above"
   ]
  },
  {
   "cell_type": "markdown",
   "metadata": {},
   "source": [
    "<hr>\n",
    "<style>\n",
    "    .title{font-weight: bold; font-size:13pt; text-indent: 20px; display: block; color:rgb(200,110,50)}\n",
    "    .desc{font-size:13pt; margin-left: 60px; display: block; color:rgb(70,150,90)}\n",
    "</style>\n",
    "<p>glutInitDisplayMode sets the initial display mode.</p>\n",
    "<p>Syntax is:</p>\n",
    "<center><strong>glutInitDisplayMode(GLUT_RGBA)</strong></center>\n",
    "<p>mode: Displays mode, it may be one of the following:</p>\n",
    "\n",
    "<span class=\"title\">GLUT_RGBA</span>\n",
    "    <span class=\"desc\">Bit mask to select an RGBA mode window. This is the default if neither GLUT_RGBA nor GLUT_INDEX are specified.</span>\n",
    "<span class=\"title\">GLUT_RGB</span>\n",
    "    <span class=\"desc\">An alias for GLUT_RGBA.</span>\n",
    "<span class=\"title\">GLUT_INDEX</span>\n",
    "    <span class=\"desc\">Bit mask to select a color index mode window. This overrides GLUT_RGBA if it is also specified.</span>\n",
    "<span class=\"title\">GLUT_SINGLE</span>\n",
    "    <span class=\"desc\">Bit mask to select a single buffered window. This is the default if neither GLUT_DOUBLE or GLUT_SINGLE are specified.</span>\n",
    "<span class=\"title\">GLUT_DOUBLE</span>\n",
    "    <span class=\"desc\">Bit mask to select a double buffered window. This overrides GLUT_SINGLE if it is also specified.</span>\n",
    "<span class=\"title\">GLUT_ACCUM</span>\n",
    "    <span class=\"desc\">Bit mask to select a window with an accumulation buffer.</span>\n",
    "<span class=\"title\">GLUT_ALPHA</span>\n",
    "    <span class=\"desc\">Bit mask to select a window with an alpha component to the color buffer(s).</span>\n",
    "<span class=\"title\">GLUT_DEPTH</span>\n",
    "    <span class=\"desc\">Bit mask to select a window with a depth buffer.</span>\n",
    "<span class=\"title\">GLUT_STENCIL</span>\n",
    "    <span class=\"desc\">Bit mask to select a window with a stencil buffer.</span>\n",
    "<span class=\"title\">GLUT_MULTISAMPLE</span>\n",
    "    <span class=\"desc\">Bit mask to select a window with multisampling support. If multisampling is not available, a non-multisampling window will automatically be chosen. Note: both the OpenGL client-side and server-side implementations must support the GLX_SAMPLE_SGIS extension for multisampling to be available.</span>\n",
    "<span class=\"title\">GLUT_STEREO</span>\n",
    "    <span class=\"desc\">Bit mask to select a stereo window.</span>\n",
    "<span class=\"title\">GLUT_LUMINANCE</span>\n",
    "    <span class=\"desc\">Bit mask to select a window with a ``luminance'' color model. This model provides the functionality of OpenGL's RGBA color model, but the green and blue components are not maintained in the frame buffer. Instead each pixel's red component is converted to an index between zero and glutGet(GLUT_WINDOW_COLORMAP_SIZE)-1 and looked up in a per-window color map to determine the color of pixels within the window. The initial colormap of GLUT_LUMINANCE windows is initialized to be a linear gray ramp, but can be modified with GLUT's colormap routines.</span>"
   ]
  }
 ],
 "metadata": {
  "kernelspec": {
   "display_name": "CG",
   "language": "python",
   "name": "python3"
  },
  "language_info": {
   "codemirror_mode": {
    "name": "ipython",
    "version": 3
   },
   "file_extension": ".py",
   "mimetype": "text/x-python",
   "name": "python",
   "nbconvert_exporter": "python",
   "pygments_lexer": "ipython3",
   "version": "3.11.2"
  }
 },
 "nbformat": 4,
 "nbformat_minor": 2
}
