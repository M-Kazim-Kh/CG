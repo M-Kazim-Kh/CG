{
 "cells": [
  {
   "cell_type": "code",
   "execution_count": 2,
   "id": "57cada24",
   "metadata": {},
   "outputs": [
    {
     "ename": "",
     "evalue": "",
     "output_type": "error",
     "traceback": [
      "\u001b[1;31mThe Kernel crashed while executing code in the current cell or a previous cell. \n",
      "\u001b[1;31mPlease review the code in the cell(s) to identify a possible cause of the failure. \n",
      "\u001b[1;31mClick <a href='https://aka.ms/vscodeJupyterKernelCrash'>here</a> for more info. \n",
      "\u001b[1;31mView Jupyter <a href='command:jupyter.viewOutput'>log</a> for further details."
     ]
    }
   ],
   "source": [
    "from OpenGL.GL import *\n",
    "from OpenGL.GLUT import *\n",
    "from OpenGL.GLU import *\n",
    "\n",
    "def draw():\n",
    "    glClear(GL_COLOR_BUFFER_BIT | GL_DEPTH_BUFFER_BIT)\n",
    "    glLoadIdentity()\n",
    "    glBegin(GL_TRIANGLES)\n",
    "    glColor3f(1, 0, 0)\n",
    "    glVertex3f(-0.5, -0.5, 0)\n",
    "    glColor3f(0, 1, 0)\n",
    "    glVertex3f(0.5, -0.5, 0)\n",
    "    glColor3f(0, 0, 1)\n",
    "    glVertex3f(0, 0.5, 0)\n",
    "    glEnd()\n",
    "    glutSwapBuffers()\n",
    "\n",
    "def main():\n",
    "    glutInit()\n",
    "    glutInitDisplayMode(GLUT_RGBA | GLUT_DOUBLE | GLUT_DEPTH)\n",
    "    glutInitWindowSize(500, 500)\n",
    "    glutInitWindowPosition(100, 100)\n",
    "    glutCreateWindow(b\"\")\n",
    "    glutDisplayFunc(draw)\n",
    "    glutIdleFunc(draw)\n",
    "    glutMainLoop()\n",
    "\n",
    "main()\n"
   ]
  },
  {
   "cell_type": "code",
   "execution_count": null,
   "id": "099fd097",
   "metadata": {},
   "outputs": [],
   "source": [
    "import glfw\n",
    "from OpenGL.GL import *\n",
    "\n",
    "def main():\n",
    "    # Initialize GLFW\n",
    "    if not glfw.init():\n",
    "        return\n",
    "\n",
    "    # Create a window\n",
    "    window = glfw.create_window(800, 600, \"OpenGL with Python\", None, None)\n",
    "    if not window:\n",
    "        glfw.terminate()\n",
    "        return\n",
    "\n",
    "    glfw.make_context_current(window)\n",
    "\n",
    "    # Main loop\n",
    "    while not glfw.window_should_close(window):\n",
    "        # Clear the screen (black)\n",
    "        glClearColor(0.0, 0.0, 0.0, 1.0)\n",
    "        glClear(GL_COLOR_BUFFER_BIT)\n",
    "\n",
    "        # Swap buffers and poll events\n",
    "        glfw.swap_buffers(window)\n",
    "        glfw.poll_events()\n",
    "\n",
    "    glfw.terminate()\n",
    "\n",
    "if __name__ == \"__main__\":\n",
    "    main()"
   ]
  }
 ],
 "metadata": {
  "kernelspec": {
   "display_name": "CG",
   "language": "python",
   "name": "python3"
  },
  "language_info": {
   "codemirror_mode": {
    "name": "ipython",
    "version": 3
   },
   "file_extension": ".py",
   "mimetype": "text/x-python",
   "name": "python",
   "nbconvert_exporter": "python",
   "pygments_lexer": "ipython3",
   "version": "3.11.2"
  }
 },
 "nbformat": 4,
 "nbformat_minor": 5
}
