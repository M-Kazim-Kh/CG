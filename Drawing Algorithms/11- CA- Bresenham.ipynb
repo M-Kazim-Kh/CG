{
 "cells": [
  {
   "cell_type": "code",
   "execution_count": 1,
   "id": "e21f2b04",
   "metadata": {},
   "outputs": [
    {
     "name": "stdout",
     "output_type": "stream",
     "text": [
      "pygame 2.6.1 (SDL 2.28.4, Python 3.11.2)\n",
      "Hello from the pygame community. https://www.pygame.org/contribute.html\n"
     ]
    }
   ],
   "source": [
    "\"\"\" Bresenham's Circle Algorithm \"\"\"\n",
    "\n",
    "import pygame\n",
    "\n",
    "def bresenham_circle(center_x, center_y, radius):\n",
    "    x = 0\n",
    "    y = radius\n",
    "    d = 3 - 2 * radius\n",
    "\n",
    "    points = []\n",
    "\n",
    "    def add_symmetric_points(cx, cy, x, y):\n",
    "        points.extend([\n",
    "            (cx + x, cy + y),\n",
    "            (cx - x, cy + y),\n",
    "            (cx + x, cy - y),\n",
    "            (cx - x, cy - y),\n",
    "            (cx + y, cy + x),\n",
    "            (cx - y, cy + x),\n",
    "            (cx + y, cy - x),\n",
    "            (cx - y, cy - x)\n",
    "        ])\n",
    "\n",
    "    add_symmetric_points(center_x, center_y, x, y)\n",
    "\n",
    "    while x <= y:\n",
    "        x += 1\n",
    "        if d < 0:\n",
    "            d = d + 4 * x + 6\n",
    "        else:\n",
    "            y -= 1\n",
    "            d = d + 4 * (x - y) + 10\n",
    "        add_symmetric_points(center_x, center_y, x, y)\n",
    "\n",
    "    return points\n",
    "\n",
    "if __name__ == \"__main__\":\n",
    "    # Colors\n",
    "    WHITE = (255, 255, 255)\n",
    "    BLACK = (0, 0, 0)\n",
    "\n",
    "    # Logical screen settings\n",
    "    WIDTH, HEIGHT = 80, 60\n",
    "    PIXEL_SIZE = 10\n",
    "\n",
    "    # Circle parameters\n",
    "    radius = 25\n",
    "    center = (WIDTH // 2, HEIGHT // 2)\n",
    "\n",
    "    # Initialize Pygame\n",
    "    pygame.init()\n",
    "    screen = pygame.display.set_mode((WIDTH * PIXEL_SIZE, HEIGHT * PIXEL_SIZE))\n",
    "    pygame.display.set_caption(\"Bresenham's Circle Algorithm\")\n",
    "\n",
    "    # Fill background\n",
    "    screen.fill(WHITE)\n",
    "\n",
    "    # Draw the circle\n",
    "    points = bresenham_circle(*center, radius)\n",
    "\n",
    "    for x, y in points:\n",
    "        pygame.draw.rect(screen, BLACK, (x * PIXEL_SIZE, y * PIXEL_SIZE, PIXEL_SIZE, PIXEL_SIZE))\n",
    "\n",
    "    # Update display\n",
    "    pygame.display.flip()\n",
    "\n",
    "    # Main loop\n",
    "    running = True\n",
    "    while running:\n",
    "        for event in pygame.event.get():\n",
    "            if event.type == pygame.QUIT or (\n",
    "                event.type == pygame.KEYDOWN and event.key == pygame.K_ESCAPE):\n",
    "                running = False\n",
    "\n",
    "    pygame.quit()\n"
   ]
  }
 ],
 "metadata": {
  "kernelspec": {
   "display_name": "CG",
   "language": "python",
   "name": "python3"
  },
  "language_info": {
   "codemirror_mode": {
    "name": "ipython",
    "version": 3
   },
   "file_extension": ".py",
   "mimetype": "text/x-python",
   "name": "python",
   "nbconvert_exporter": "python",
   "pygments_lexer": "ipython3",
   "version": "3.11.2"
  }
 },
 "nbformat": 4,
 "nbformat_minor": 5
}
