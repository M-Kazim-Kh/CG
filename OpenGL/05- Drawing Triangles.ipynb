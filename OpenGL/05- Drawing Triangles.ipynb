{
 "cells": [
  {
   "cell_type": "code",
   "execution_count": null,
   "metadata": {},
   "outputs": [
    {
     "name": "stdout",
     "output_type": "stream",
     "text": [
      "Escape key pressed. Exiting...\n",
      "Program closed.\n"
     ]
    }
   ],
   "source": [
    "\"\"\" OpenGL - Drawing a Triangle \"\"\"\n",
    "\n",
    "from OpenGL.GL import *\n",
    "from OpenGL.GLUT import *\n",
    "import sys\n",
    "\n",
    "def display():\n",
    "    glClear(GL_COLOR_BUFFER_BIT | GL_DEPTH_BUFFER_BIT)\n",
    "    glLoadIdentity()\n",
    "\n",
    "    glBegin(GL_TRIANGLES)\n",
    "\n",
    "    # Set color to Orange\n",
    "    glColor3f(0.3, 0.8, 0.7)\n",
    "\n",
    "    # Define the three corners of the triangle\n",
    "    glVertex2f(-0.5, -0.5)   # Bottom-left corner\n",
    "    glVertex2f(0.5, -0.5)    # Bottom-right corner\n",
    "    glVertex2f(0.0, 0.5)     # Top-center corner\n",
    "\n",
    "    glEnd()\n",
    "\n",
    "    glutSwapBuffers()\n",
    "\n",
    "def keyboard(key, x, y):\n",
    "    if key == b'\\x1b':  # ESC key\n",
    "        print(\"Escape key pressed. Exiting...\")\n",
    "        glutLeaveMainLoop()\n",
    "\n",
    "def main():\n",
    "    glutInit(sys.argv)\n",
    "    glutInitDisplayMode(GLUT_DOUBLE | GLUT_RGB | GLUT_DEPTH)\n",
    "    glutInitWindowSize(800, 600)\n",
    "    glutInitWindowPosition(100, 100)\n",
    "    glutCreateWindow(b\"OpenGL Drawing Triangle (Example 5)\")\n",
    "\n",
    "    glClearColor(1.0, 1.0, 1.0, 1.0)  # Set background color to white\n",
    "\n",
    "    glutDisplayFunc(display)\n",
    "    glutKeyboardFunc(keyboard)\n",
    "\n",
    "    glutSetOption(GLUT_ACTION_ON_WINDOW_CLOSE, GLUT_ACTION_GLUTMAINLOOP_RETURNS)\n",
    "\n",
    "    glutMainLoop()\n",
    "    print(\"Program closed.\")\n",
    "\n",
    "if __name__ == \"__main__\":\n",
    "    main()\n"
   ]
  }
 ],
 "metadata": {
  "kernelspec": {
   "display_name": "CG",
   "language": "python",
   "name": "python3"
  },
  "language_info": {
   "codemirror_mode": {
    "name": "ipython",
    "version": 3
   },
   "file_extension": ".py",
   "mimetype": "text/x-python",
   "name": "python",
   "nbconvert_exporter": "python",
   "pygments_lexer": "ipython3",
   "version": "3.11.2"
  }
 },
 "nbformat": 4,
 "nbformat_minor": 2
}
