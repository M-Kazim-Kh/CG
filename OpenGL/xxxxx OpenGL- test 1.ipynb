{
 "cells": [
  {
   "cell_type": "code",
   "execution_count": 1,
   "id": "57cada24",
   "metadata": {},
   "outputs": [
    {
     "name": "stdout",
     "output_type": "stream",
     "text": [
      "OpenGL version: 3.1.9\n",
      "GLFW version: (3, 4, 0)\n"
     ]
    }
   ],
   "source": [
    "import OpenGL\n",
    "import glfw\n",
    "print(\"OpenGL version:\", OpenGL.__version__)\n",
    "print(\"GLFW version:\", glfw.get_version())\n"
   ]
  }
 ],
 "metadata": {
  "kernelspec": {
   "display_name": "CG",
   "language": "python",
   "name": "python3"
  },
  "language_info": {
   "codemirror_mode": {
    "name": "ipython",
    "version": 3
   },
   "file_extension": ".py",
   "mimetype": "text/x-python",
   "name": "python",
   "nbconvert_exporter": "python",
   "pygments_lexer": "ipython3",
   "version": "3.11.2"
  }
 },
 "nbformat": 4,
 "nbformat_minor": 5
}
