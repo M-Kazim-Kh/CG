{
 "cells": [
  {
   "cell_type": "code",
   "execution_count": null,
   "metadata": {},
   "outputs": [
    {
     "name": "stdout",
     "output_type": "stream",
     "text": [
      "Escape key pressed. Exiting...\n",
      "Program closed.\n"
     ]
    }
   ],
   "source": [
    "\"\"\" OpenGL - Drawing a Single Point (Example 2) \"\"\"\n",
    "\n",
    "from OpenGL.GL import *\n",
    "from OpenGL.GLUT import *\n",
    "import sys\n",
    "\n",
    "def display():\n",
    "    glClear(GL_COLOR_BUFFER_BIT | GL_DEPTH_BUFFER_BIT)  # Clear the screen\n",
    "    glLoadIdentity()\n",
    "\n",
    "    glPointSize(10.0)\n",
    "    glBegin(GL_POINTS)\n",
    "    glColor3f(1.0, 0.0, 0.0)  # Red point\n",
    "\n",
    "    # Draw points from x = -1.0 to x = 1.0\n",
    "    steps = 40  # Number of points\n",
    "    for i in range(steps + 1):\n",
    "        x = -1.0 + (2.0 * i / steps)  # Map i to x from -1.0 to +1.0\n",
    "        glVertex2f(x, 0.0)  # Y = 0.0 (X-axis)\n",
    "    glEnd()\n",
    "\n",
    "    # Draw a special blue point at the center (0.0, 0.0)\n",
    "    glColor3f(0.0, 0.0, 1.0)  # Set color to blue\n",
    "    glBegin(GL_POINTS)\n",
    "    glVertex2f(0.0, 0.0)\n",
    "    glEnd()\n",
    "        \n",
    "    glutSwapBuffers()\n",
    "\n",
    "# Correct Keyboard function\n",
    "def keyboard(key, x, y):\n",
    "    if key == b'\\x1b':  # ESC key\n",
    "        print(\"Escape key pressed. Exiting...\")\n",
    "        glutLeaveMainLoop()  # Properly exit the GLUT main loop\n",
    "\n",
    "def main():\n",
    "    glutInit(sys.argv)\n",
    "    glutInitDisplayMode(GLUT_DOUBLE | GLUT_RGB | GLUT_DEPTH)\n",
    "    glutInitWindowSize(800, 600)\n",
    "    glutInitWindowPosition(100, 100)\n",
    "    glutCreateWindow(b\"OpenGL Single Point (Example 2)\")\n",
    "\n",
    "    glClearColor(1.0, 1.0, 1.0, 1.0)\n",
    "\n",
    "    glutDisplayFunc(display)\n",
    "    glutKeyboardFunc(keyboard)\n",
    "\n",
    "    # This is very important: to allow exiting properly\n",
    "    glutSetOption(GLUT_ACTION_ON_WINDOW_CLOSE, GLUT_ACTION_GLUTMAINLOOP_RETURNS)\n",
    "\n",
    "    glutMainLoop()\n",
    "    print(\"Program closed.\")\n",
    "\n",
    "main()\n"
   ]
  }
 ],
 "metadata": {
  "kernelspec": {
   "display_name": "CG",
   "language": "python",
   "name": "python3"
  },
  "language_info": {
   "codemirror_mode": {
    "name": "ipython",
    "version": 3
   },
   "file_extension": ".py",
   "mimetype": "text/x-python",
   "name": "python",
   "nbconvert_exporter": "python",
   "pygments_lexer": "ipython3",
   "version": "3.11.2"
  }
 },
 "nbformat": 4,
 "nbformat_minor": 2
}
