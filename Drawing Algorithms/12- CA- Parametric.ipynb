{
 "cells": [
  {
   "cell_type": "code",
   "execution_count": 1,
   "id": "23c57bab",
   "metadata": {},
   "outputs": [
    {
     "name": "stdout",
     "output_type": "stream",
     "text": [
      "pygame 2.6.1 (SDL 2.28.4, Python 3.11.2)\n",
      "Hello from the pygame community. https://www.pygame.org/contribute.html\n"
     ]
    }
   ],
   "source": [
    "\"\"\" Parametric Circle Drawing Algorithm \"\"\"\n",
    "\n",
    "import pygame\n",
    "import math\n",
    "\n",
    "# Initialize Pygame\n",
    "pygame.init()\n",
    "screen = pygame.display.set_mode((600, 500))\n",
    "pygame.display.set_caption(\"Parametric Circle Drawing Algorithm\")\n",
    "\n",
    "# Colors\n",
    "WHITE = (255, 255, 255)\n",
    "BLACK = (0, 0, 0)\n",
    "\n",
    "# Fill background\n",
    "screen.fill(WHITE)\n",
    "\n",
    "# Circle parameters\n",
    "center_x, center_y = 300, 250\n",
    "radius = 200\n",
    "\n",
    "# Draw circle using parametric equation\n",
    "for theta in range(0, 360):\n",
    "    rad = math.radians(theta)\n",
    "    x = center_x + radius * math.cos(rad)\n",
    "    y = center_y - radius * math.sin(rad)  # Invert y because screen y increases downward\n",
    "    pygame.draw.circle(screen, BLACK, (round(x), round(y)), 1)\n",
    "\n",
    "# Update the display\n",
    "pygame.display.flip()\n",
    "\n",
    "# Main loop\n",
    "running = True\n",
    "while running:\n",
    "    for event in pygame.event.get():\n",
    "        if event.type == pygame.QUIT or (\n",
    "            event.type == pygame.KEYDOWN and event.key == pygame.K_ESCAPE):\n",
    "            running = False\n",
    "\n",
    "# Quit Pygame\n",
    "pygame.quit()\n"
   ]
  }
 ],
 "metadata": {
  "kernelspec": {
   "display_name": "CG",
   "language": "python",
   "name": "python3"
  },
  "language_info": {
   "codemirror_mode": {
    "name": "ipython",
    "version": 3
   },
   "file_extension": ".py",
   "mimetype": "text/x-python",
   "name": "python",
   "nbconvert_exporter": "python",
   "pygments_lexer": "ipython3",
   "version": "3.11.2"
  }
 },
 "nbformat": 4,
 "nbformat_minor": 5
}
