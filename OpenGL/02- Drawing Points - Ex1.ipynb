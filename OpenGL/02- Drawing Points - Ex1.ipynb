{
 "cells": [
  {
   "cell_type": "code",
   "execution_count": null,
   "metadata": {},
   "outputs": [
    {
     "ename": "",
     "evalue": "",
     "output_type": "error",
     "traceback": [
      "\u001b[1;31mThe Kernel crashed while executing code in the current cell or a previous cell. \n",
      "\u001b[1;31mPlease review the code in the cell(s) to identify a possible cause of the failure. \n",
      "\u001b[1;31mClick <a href='https://aka.ms/vscodeJupyterKernelCrash'>here</a> for more info. \n",
      "\u001b[1;31mView Jupyter <a href='command:jupyter.viewOutput'>log</a> for further details."
     ]
    }
   ],
   "source": [
    "\"\"\" OpenGL - Drawing a Single Point (Example 1) \"\"\"\n",
    "\n",
    "from OpenGL.GL import *\n",
    "from OpenGL.GLUT import *\n",
    "import sys\n",
    "\n",
    "def display():\n",
    "    glClear(GL_COLOR_BUFFER_BIT | GL_DEPTH_BUFFER_BIT)  # Clear the screen\n",
    "    glLoadIdentity()  # Reset the modelview matrix\n",
    "\n",
    "    # Set the point size\n",
    "    glPointSize(10)  # Make the point larger to be visible\n",
    "\n",
    "    # Draw a single point\n",
    "    glBegin(GL_POINTS)\n",
    "    glColor3f(1.0, 0.0, 0.0)  # Red color\n",
    "    glVertex2f(0.0, 0.0)      # Point at the center (x=0, y=0)\n",
    "    glEnd()\n",
    "\n",
    "    # Swap buffers for double buffering\n",
    "    glutSwapBuffers()\n",
    "\n",
    "# Main function to initialize and run the OpenGL program\n",
    "def main():\n",
    "    glutInit(sys.argv)\n",
    "    glutInitDisplayMode(GLUT_SINGLE  | GLUT_RGB | GLUT_DEPTH)\n",
    "    glutInitWindowSize(640, 480)\n",
    "    glutInitWindowPosition(100, 100)\n",
    "    glutCreateWindow(b\"OpenGL Single Point (Example 1)\")\n",
    "\n",
    "    glClearColor(1.0, 1.0, 1.0, 1.0)  # Background color: black\n",
    "\n",
    "    glutDisplayFunc(display)       # Set the display callback function\n",
    "    glutMainLoop()                 # Start the GLUT event processing loop\n",
    "main()\n"
   ]
  }
 ],
 "metadata": {
  "kernelspec": {
   "display_name": "CG",
   "language": "python",
   "name": "python3"
  },
  "language_info": {
   "codemirror_mode": {
    "name": "ipython",
    "version": 3
   },
   "file_extension": ".py",
   "mimetype": "text/x-python",
   "name": "python",
   "nbconvert_exporter": "python",
   "pygments_lexer": "ipython3",
   "version": "3.11.2"
  }
 },
 "nbformat": 4,
 "nbformat_minor": 2
}
