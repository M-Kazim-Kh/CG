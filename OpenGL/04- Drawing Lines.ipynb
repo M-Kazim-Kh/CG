{
 "cells": [
  {
   "cell_type": "code",
   "execution_count": null,
   "metadata": {},
   "outputs": [
    {
     "name": "stdout",
     "output_type": "stream",
     "text": [
      "Escape key pressed. Exiting...\n",
      "Program closed.\n"
     ]
    }
   ],
   "source": [
    "\"\"\" OpenGL - Drawing Lines \"\"\"\n",
    "\n",
    "from OpenGL.GL import *\n",
    "from OpenGL.GLUT import *\n",
    "import sys\n",
    "\n",
    "def display():\n",
    "    glClear(GL_COLOR_BUFFER_BIT | GL_DEPTH_BUFFER_BIT)\n",
    "    glLoadIdentity()\n",
    "\n",
    "    glLineWidth(3.0)  # Set line thickness\n",
    "\n",
    "    glBegin(GL_LINES)\n",
    "    \n",
    "    # Line 1 (Red)\n",
    "    glColor3f(1.0, 0.0, 0.0)  # Red color\n",
    "    glVertex2f(-0.8, 0.8)  # Start point\n",
    "    glVertex2f(0.0, 0.8)  # End point\n",
    "\n",
    "    # Line 3 (Blue)\n",
    "    glColor3f(0.0, 0.0, 1.0)  # Blue color\n",
    "    glVertex2f(0.5, 0.0)\n",
    "    glVertex2f(0.2, -0.7)\n",
    "\n",
    "    # Line 3 (Black)\n",
    "    glColor3f(0.0, 0.0, 0.0)  # Black color\n",
    "    glVertex2f(0.2, -0.7)\n",
    "    glVertex2f(-0.8, 0.8)\n",
    "\n",
    "    glEnd()\n",
    "\n",
    "    glutSwapBuffers()\n",
    "\n",
    "def keyboard(key, x, y):\n",
    "    if key == b'\\x1b':  # ESC key\n",
    "        print(\"Escape key pressed. Exiting...\")\n",
    "        glutLeaveMainLoop()\n",
    "\n",
    "def main():\n",
    "    glutInit(sys.argv)\n",
    "    glutInitDisplayMode(GLUT_DOUBLE | GLUT_RGB | GLUT_DEPTH)\n",
    "    glutInitWindowSize(800, 600)\n",
    "    glutInitWindowPosition(100, 100)\n",
    "    glutCreateWindow(b\"OpenGL Draw Multiple Lines (Example 4)\")\n",
    "\n",
    "    glClearColor(1.0, 1.0, 1.0, 1.0)  # White background\n",
    "\n",
    "    glutDisplayFunc(display)\n",
    "    glutKeyboardFunc(keyboard)\n",
    "\n",
    "    glutSetOption(GLUT_ACTION_ON_WINDOW_CLOSE, GLUT_ACTION_GLUTMAINLOOP_RETURNS)\n",
    "\n",
    "    glutMainLoop()\n",
    "    print(\"Program closed.\")\n",
    "\n",
    "if __name__ == \"__main__\":\n",
    "    main()\n"
   ]
  }
 ],
 "metadata": {
  "kernelspec": {
   "display_name": "CG",
   "language": "python",
   "name": "python3"
  },
  "language_info": {
   "codemirror_mode": {
    "name": "ipython",
    "version": 3
   },
   "file_extension": ".py",
   "mimetype": "text/x-python",
   "name": "python",
   "nbconvert_exporter": "python",
   "pygments_lexer": "ipython3",
   "version": "3.11.2"
  }
 },
 "nbformat": 4,
 "nbformat_minor": 2
}
