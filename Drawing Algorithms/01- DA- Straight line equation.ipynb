{
 "cells": [
  {
   "cell_type": "code",
   "execution_count": null,
   "metadata": {},
   "outputs": [
    {
     "name": "stdout",
     "output_type": "stream",
     "text": [
      "pygame 2.6.1 (SDL 2.28.4, Python 3.11.2)\n",
      "Hello from the pygame community. https://www.pygame.org/contribute.html\n"
     ]
    }
   ],
   "source": [
    "\"\"\" Drawing line using straight-line equation \"\"\"\n",
    "\n",
    "# Function to draw a line using the line equation (y = mx + c)\n",
    "def draw_line_equation(x0, y0, x1, y1):\n",
    "    # Calculate slope (m) and y-intercept (c)\n",
    "    if x0 == x1:  # Vertical line (infinite slope)\n",
    "        for y in range(min(y0, y1), max(y0, y1) + 1):\n",
    "            screen.set_at((x0,y), Red)\n",
    "        return\n",
    "\n",
    "    m = (y1 - y0) / (x1 - x0)  # Slope\n",
    "    c = y0 - m * x0  # Y-intercept\n",
    "\n",
    "    # Draw the line\n",
    "    if abs(x1 - x0) > abs(y1 - y0):  # Shallow line (more horizontal)\n",
    "        for x in range(min(x0, x1), max(x0, x1) + 1):\n",
    "            y = m * x + c\n",
    "            screen.set_at((x,round(y)), Black)\n",
    "    else:  # Steep line (more vertical)\n",
    "        for y in range(min(y0, y1), max(y0, y1) + 1):\n",
    "            x = (y - c) / m\n",
    "            screen.set_at((round(x),y), Blue)\n",
    "\n",
    "\n",
    "import pygame\n",
    "pygame.init()\n",
    "\n",
    "\n",
    "if __name__ == \"__main__\":\n",
    "    # Define colors\n",
    "    Black = (0, 0, 0)\n",
    "    Red = (255, 0, 0)\n",
    "    Blue = (0, 0, 255)\n",
    "    White = (255, 255, 255)\n",
    "\n",
    "    # 50,50,700,500\n",
    "    x0, y0, x1, y1 = map(int, input(\"Enter x0, y0, x1, y1: \").split(','))\n",
    "\n",
    "    # Set up display\n",
    "    screen = pygame.display.set_mode((800, 600))\n",
    "    pygame.display.set_caption(\"Line Drawing Using Line Equation\")\n",
    "    screen.fill(White)\n",
    "\n",
    "\n",
    "    # Draw the line\n",
    "    draw_line_equation(x0, y0, x1, y1)\n",
    "\n",
    "    # Add text labels\n",
    "    font = pygame.font.Font(\"freesansbold.ttf\", 13)\n",
    "    text_surface = font.render(f\"({x0},{y0})\", True, Black)\n",
    "    screen.blit(text_surface, (x0, y0 - 17))\n",
    "    text_surface = font.render(f\"({x1},{y1})\", True, Black)\n",
    "    screen.blit(text_surface, (x1, y1 + 3))\n",
    "\n",
    "    # Update the display\n",
    "    pygame.display.flip()\n",
    "\n",
    "    # Main loop\n",
    "    running = True\n",
    "    while running:\n",
    "        for event in pygame.event.get():\n",
    "            if event.type == pygame.KEYDOWN:\n",
    "                if event.key == pygame.K_ESCAPE:\n",
    "                    running = False\n",
    "\n",
    "    pygame.quit()"
   ]
  }
 ],
 "metadata": {
  "kernelspec": {
   "display_name": "CG",
   "language": "python",
   "name": "python3"
  },
  "language_info": {
   "codemirror_mode": {
    "name": "ipython",
    "version": 3
   },
   "file_extension": ".py",
   "mimetype": "text/x-python",
   "name": "python",
   "nbconvert_exporter": "python",
   "pygments_lexer": "ipython3",
   "version": "3.11.2"
  }
 },
 "nbformat": 4,
 "nbformat_minor": 2
}
