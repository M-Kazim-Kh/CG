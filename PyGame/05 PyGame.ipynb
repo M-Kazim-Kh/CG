{
 "cells": [
  {
   "cell_type": "code",
   "execution_count": 1,
   "metadata": {},
   "outputs": [
    {
     "name": "stdout",
     "output_type": "stream",
     "text": [
      "pygame 2.6.1 (SDL 2.28.4, Python 3.11.9)\n",
      "Hello from the pygame community. https://www.pygame.org/contribute.html\n"
     ]
    }
   ],
   "source": [
    "# Drawing with Mouse\n",
    "\n",
    "import pygame\n",
    "\n",
    "# Initialize Pygame\n",
    "pygame.init()\n",
    "\n",
    "# Set window dimensions\n",
    "WIDTH, HEIGHT = 800, 600\n",
    "screen = pygame.display.set_mode((WIDTH, HEIGHT))\n",
    "text=\"C: Clear, B: Black, R: Red, G: Green, Esc: Exit.\"\n",
    "\n",
    "# Set window title\n",
    "pygame.display.set_caption(\"Draw with Mouse\")\n",
    "font = pygame.font.Font(None, 36)  # Default font, size 36\n",
    "\n",
    "# Define colors (RGB format)\n",
    "WHITE = (255, 255, 255)\n",
    "BLACK = (0, 0, 0)\n",
    "RED = (255, 0, 0)\n",
    "GREEN = (0,255, 0)\n",
    "\n",
    "# Variables for drawing\n",
    "drawing = False  # Tracks whether the mouse button is pressed\n",
    "last_pos = None  # Stores the last mouse position\n",
    "line_color = BLACK  # Default drawing color\n",
    "line_width = 5  # Thickness of the drawing line\n",
    "\n",
    "# Main loop\n",
    "screen.fill(WHITE)  # White background\n",
    "running = True\n",
    "while running:\n",
    "    # Handle events\n",
    "    for event in pygame.event.get():\n",
    "        # Quit event\n",
    "        if event.type == pygame.QUIT:\n",
    "            running = False\n",
    "\n",
    "        # Mouse button down event\n",
    "        if event.type == pygame.MOUSEBUTTONDOWN:\n",
    "            if event.button == 1:  # Left mouse button\n",
    "                drawing = True\n",
    "                last_pos = event.pos  # Start drawing from this position\n",
    "\n",
    "        # Mouse button up event\n",
    "        if event.type == pygame.MOUSEBUTTONUP:\n",
    "            if event.button == 1:  # Left mouse button\n",
    "                drawing = False\n",
    "                last_pos = None  # Stop drawing\n",
    "\n",
    "        # Mouse motion event\n",
    "        if event.type == pygame.MOUSEMOTION:\n",
    "            if drawing:  # If the mouse button is pressed\n",
    "                current_pos = event.pos\n",
    "                if last_pos is not None:\n",
    "                    # Draw a line from the last position to the current position\n",
    "                    pygame.draw.line(screen, line_color, last_pos, current_pos, line_width)\n",
    "                    last_pos = current_pos  # Update the last position\n",
    "\n",
    "\n",
    "        # Key press event (clear screen)\n",
    "        if event.type == pygame.KEYDOWN:\n",
    "            if event.key == pygame.K_c:  # Press 'C' to clear the screen\n",
    "                screen.fill(WHITE)\n",
    "            if event.key == pygame.K_b:  # Press 'B' to Black\n",
    "                line_color = BLACK\n",
    "            if event.key == pygame.K_r:  # Press 'R' to Red\n",
    "                line_color = RED\n",
    "            if event.key == pygame.K_g:  # Press 'G' to clear the screen\n",
    "                line_color = GREEN\n",
    "            if event.key == pygame.K_ESCAPE:  # Exit if Escape key is pressed\n",
    "                running = False\n",
    "\n",
    "    text_surface = font.render(text,  False, BLACK)\n",
    "    screen.blit(text_surface, (10, 10))  # Display text at (10, 10)\n",
    "    # Update the display\n",
    "    pygame.display.flip()\n",
    "\n",
    "# Quit Pygame\n",
    "pygame.quit()"
   ]
  },
  {
   "cell_type": "code",
   "execution_count": null,
   "metadata": {},
   "outputs": [
    {
     "name": "stdout",
     "output_type": "stream",
     "text": [
      "pygame 2.6.1 (SDL 2.28.4, Python 3.11.9)\n",
      "Hello from the pygame community. https://www.pygame.org/contribute.html\n"
     ]
    },
    {
     "ename": "FileNotFoundError",
     "evalue": "No file 'ball.png' found in working directory 'c:\\Users\\MK-PC\\OneDrive\\Academy\\00-Computer Graphics\\CG- Lab Handbook\\Code'.",
     "output_type": "error",
     "traceback": [
      "\u001b[31m---------------------------------------------------------------------------\u001b[39m",
      "\u001b[31mFileNotFoundError\u001b[39m                         Traceback (most recent call last)",
      "\u001b[36mCell\u001b[39m\u001b[36m \u001b[39m\u001b[32mIn[1]\u001b[39m\u001b[32m, line 8\u001b[39m\n\u001b[32m      5\u001b[39m pygame.display.set_caption(\u001b[33m\"\u001b[39m\u001b[33mBall Following Mouse\u001b[39m\u001b[33m\"\u001b[39m)\n\u001b[32m      7\u001b[39m \u001b[38;5;66;03m# Load the ball image\u001b[39;00m\n\u001b[32m----> \u001b[39m\u001b[32m8\u001b[39m ball = \u001b[43mpygame\u001b[49m\u001b[43m.\u001b[49m\u001b[43mimage\u001b[49m\u001b[43m.\u001b[49m\u001b[43mload\u001b[49m\u001b[43m(\u001b[49m\u001b[33;43m\"\u001b[39;49m\u001b[33;43mball.png\u001b[39;49m\u001b[33;43m\"\u001b[39;49m\u001b[43m)\u001b[49m\n\u001b[32m      9\u001b[39m ball = pygame.transform.scale(ball, (\u001b[32m50\u001b[39m, \u001b[32m50\u001b[39m))  \u001b[38;5;66;03m# Resize the image\u001b[39;00m\n\u001b[32m     11\u001b[39m running = \u001b[38;5;28;01mTrue\u001b[39;00m\n",
      "\u001b[31mFileNotFoundError\u001b[39m: No file 'ball.png' found in working directory 'c:\\Users\\MK-PC\\OneDrive\\Academy\\00-Computer Graphics\\CG- Lab Handbook\\Code'."
     ]
    }
   ],
   "source": [
    "import pygame\n",
    "\n",
    "pygame.init()\n",
    "screen = pygame.display.set_mode((500, 500))\n",
    "pygame.display.set_caption(\"Ball Following Mouse\")\n",
    "\n",
    "# Load the ball image\n",
    "ball = pygame.image.load(\"img/ball.png\")\n",
    "ball = pygame.transform.scale(ball, (50, 50))  # Resize the image\n",
    "\n",
    "running = True\n",
    "while running:\n",
    "    screen.fill((255, 255, 255))\n",
    "\n",
    "    for event in pygame.event.get():\n",
    "        if event.type == pygame.QUIT:\n",
    "            running = False\n",
    "\n",
    "    # Get the mouse position\n",
    "    x, y = pygame.mouse.get_pos()\n",
    "    \n",
    "    # Draw the ball at the mouse position\n",
    "    screen.blit(ball, (x - 25, y - 25))\n",
    "\n",
    "    pygame.display.flip()\n",
    "\n",
    "pygame.quit()\n"
   ]
  }
 ],
 "metadata": {
  "kernelspec": {
   "display_name": "CG",
   "language": "python",
   "name": "python3"
  },
  "language_info": {
   "codemirror_mode": {
    "name": "ipython",
    "version": 3
   },
   "file_extension": ".py",
   "mimetype": "text/x-python",
   "name": "python",
   "nbconvert_exporter": "python",
   "pygments_lexer": "ipython3",
   "version": "3.11.9"
  }
 },
 "nbformat": 4,
 "nbformat_minor": 2
}
