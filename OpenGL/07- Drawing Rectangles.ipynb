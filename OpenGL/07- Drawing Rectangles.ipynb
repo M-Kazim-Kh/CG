{
 "cells": [
  {
   "cell_type": "code",
   "execution_count": 1,
   "metadata": {},
   "outputs": [
    {
     "name": "stdout",
     "output_type": "stream",
     "text": [
      "Escape key pressed. Exiting...\n",
      "Program closed.\n"
     ]
    }
   ],
   "source": [
    "\"\"\" OpenGL - Drawing a Colored Triangle  \"\"\"\n",
    "\n",
    "from OpenGL.GL import *\n",
    "from OpenGL.GLUT import *\n",
    "import sys\n",
    "\n",
    "def display():\n",
    "    glClear(GL_COLOR_BUFFER_BIT | GL_DEPTH_BUFFER_BIT)\n",
    "    glLoadIdentity()\n",
    "\n",
    "    glBegin(GL_TRIANGLES)\n",
    "    glColor3f(1, 0, 0)\n",
    "    glVertex3f(-0.5, -0.5, 0)\n",
    "    glColor3f(0, 1, 0)\n",
    "    glVertex3f(0.5, -0.5, 0)\n",
    "    glColor3f(0, 0, 1)\n",
    "    glVertex3f(0, 0.5, 0)\n",
    "    glEnd()\n",
    "\n",
    "    glutSwapBuffers()\n",
    "\n",
    "def keyboard(key, x, y):\n",
    "    if key == b'\\x1b':\n",
    "        print(\"Escape key pressed. Exiting...\")\n",
    "        glutLeaveMainLoop()\n",
    "\n",
    "def main():\n",
    "    glutInit(sys.argv)\n",
    "    glutInitDisplayMode(GLUT_DOUBLE | GLUT_RGB | GLUT_DEPTH)\n",
    "    glutInitWindowSize(800, 600)\n",
    "    glutInitWindowPosition(100, 100)\n",
    "    glutCreateWindow(b\"OpenGL Draw Rectangle\")\n",
    "\n",
    "    glClearColor(1.0, 1.0, 1.0, 1.0)\n",
    "\n",
    "    glutDisplayFunc(display)\n",
    "    glutKeyboardFunc(keyboard)\n",
    "\n",
    "    glutSetOption(GLUT_ACTION_ON_WINDOW_CLOSE, GLUT_ACTION_GLUTMAINLOOP_RETURNS)\n",
    "\n",
    "    glutMainLoop()\n",
    "    print(\"Program closed.\")\n",
    "\n",
    "if __name__ == \"__main__\":\n",
    "    main()\n"
   ]
  }
 ],
 "metadata": {
  "kernelspec": {
   "display_name": "CG",
   "language": "python",
   "name": "python3"
  },
  "language_info": {
   "codemirror_mode": {
    "name": "ipython",
    "version": 3
   },
   "file_extension": ".py",
   "mimetype": "text/x-python",
   "name": "python",
   "nbconvert_exporter": "python",
   "pygments_lexer": "ipython3",
   "version": "3.11.2"
  }
 },
 "nbformat": 4,
 "nbformat_minor": 2
}
