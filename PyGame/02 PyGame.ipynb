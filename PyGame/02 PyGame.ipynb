{
 "cells": [
  {
   "cell_type": "code",
   "execution_count": 1,
   "metadata": {},
   "outputs": [
    {
     "name": "stdout",
     "output_type": "stream",
     "text": [
      "pygame 2.6.1 (SDL 2.28.4, Python 3.11.2)\n",
      "Hello from the pygame community. https://www.pygame.org/contribute.html\n"
     ]
    }
   ],
   "source": [
    "import pygame\n",
    "pygame.init()\n",
    "screen = pygame.display.set_mode((500, 400))\n",
    "screen.fill((255, 255, 255))  # White background\n",
    "\n",
    "# Define colors\n",
    "WHITE = (255, 255, 255)\n",
    "RED = (255, 0, 0)\n",
    "BLUE = (0, 0, 255)\n",
    "GREEN = (0, 255, 0)\n",
    "\n",
    " # Draw a rectangle\n",
    "pygame.draw.rect(screen, RED, (50, 50, 200, 100))  # (x, y, width, height)\n",
    "\n",
    "# Draw a circle\n",
    "pygame.draw.circle(screen, BLUE, (100, 230), 50)  # (center_x, center_y, radius)\n",
    "\n",
    "# Draw a line\n",
    "pygame.draw.line(screen, GREEN, (50, 300), (250, 300), 5)  # (start_x, start_y), (end_x, end_y), thickness\n",
    "\n",
    "# Update the display\n",
    "pygame.display.flip()\n",
    "\n",
    "pygame.time.wait(5000)  # Display for 2 seconds\n",
    "pygame.quit()\n"
   ]
  }
 ],
 "metadata": {
  "kernelspec": {
   "display_name": "CG3.11.2",
   "language": "python",
   "name": "python3"
  },
  "language_info": {
   "codemirror_mode": {
    "name": "ipython",
    "version": 3
   },
   "file_extension": ".py",
   "mimetype": "text/x-python",
   "name": "python",
   "nbconvert_exporter": "python",
   "pygments_lexer": "ipython3",
   "version": "3.11.2"
  }
 },
 "nbformat": 4,
 "nbformat_minor": 2
}
