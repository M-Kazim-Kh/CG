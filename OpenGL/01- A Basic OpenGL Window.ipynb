{
 "cells": [
  {
   "cell_type": "code",
   "execution_count": null,
   "metadata": {},
   "outputs": [],
   "source": [
    "\"\"\" A Basic OpenGL Window \"\"\"\n",
    "\n",
    "# Import the necessary OpenGL modules\n",
    "from OpenGL.GL import *          # Core OpenGL functions\n",
    "from OpenGL.GLUT import *        # GLUT for windowing and input handling\n",
    "import sys                       # For accessing command-line arguments\n",
    "\n",
    "# Display function: This is where rendering happens\n",
    "def display():\n",
    "    # Clear the screen and depth buffer\n",
    "    glClear(GL_COLOR_BUFFER_BIT | GL_DEPTH_BUFFER_BIT)\n",
    "    # Reset the modelview matrix\n",
    "    glLoadIdentity()\n",
    "\n",
    "    # No shapes drawn yet\n",
    "\n",
    "    # Swap buffers for double buffering\n",
    "    glutSwapBuffers()\n",
    "\n",
    "# Main function to initialize and run the OpenGL program\n",
    "def main():\n",
    "    # Initialize GLUT and process command-line arguments\n",
    "    glutInit(sys.argv)\n",
    "    # Set display mode: single buffering, RGB color, depth buffer\n",
    "    glutInitDisplayMode(GLUT_SINGLE  | GLUT_RGB | GLUT_DEPTH)\n",
    "    # Set the window size (width x height)\n",
    "    glutInitWindowSize(640, 480)\n",
    "    # Set the initial window position on the screen\n",
    "    glutInitWindowPosition(100, 100)\n",
    "    # Create the window with a title\n",
    "    glutCreateWindow(b\"Simple OpenGL Window\")\n",
    "\n",
    "    # Set the background (clear) color to black\n",
    "    glClearColor(0.0, 0.0, 0.0, 1.0)\n",
    "\n",
    "    glutDisplayFunc(display)       # Set the display callback function\n",
    "    glutMainLoop()                 # Start the GLUT event processing loop\n",
    "\n",
    "# Call the main function to start the program\n",
    "main()\n"
   ]
  }
 ],
 "metadata": {
  "kernelspec": {
   "display_name": "CG",
   "language": "python",
   "name": "python3"
  },
  "language_info": {
   "codemirror_mode": {
    "name": "ipython",
    "version": 3
   },
   "file_extension": ".py",
   "mimetype": "text/x-python",
   "name": "python",
   "nbconvert_exporter": "python",
   "pygments_lexer": "ipython3",
   "version": "3.11.2"
  }
 },
 "nbformat": 4,
 "nbformat_minor": 2
}
